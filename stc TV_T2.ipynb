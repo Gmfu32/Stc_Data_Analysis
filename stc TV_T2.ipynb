{
 "cells": [
  {
   "cell_type": "markdown",
   "id": "d66c1c6c",
   "metadata": {},
   "source": [
    "# STC TV Watch Time Forecast - Task 2"
   ]
  },
  {
   "cell_type": "code",
   "execution_count": 86,
   "id": "df7dab59",
   "metadata": {},
   "outputs": [],
   "source": [
    "# importing the libraries \n",
    "import pandas as pd     \n",
    "import pyxlsb        \n",
    "import numpy as np     \n",
    "import matplotlib.pyplot as plt \n",
    "import seaborn as sns\n",
    "import plotly.express as px\n",
    "import plotly.graph_objects as go\n",
    "from plotly.subplots import make_subplots\n",
    "from prophet import Prophet"
   ]
  },
  {
   "cell_type": "markdown",
   "id": "8679536d",
   "metadata": {},
   "source": [
    "## Data Loading and Preprocessing:"
   ]
  },
  {
   "cell_type": "code",
   "execution_count": 87,
   "id": "1bcc5b5b",
   "metadata": {},
   "outputs": [
    {
     "data": {
      "text/html": [
       "<div>\n",
       "<style scoped>\n",
       "    .dataframe tbody tr th:only-of-type {\n",
       "        vertical-align: middle;\n",
       "    }\n",
       "\n",
       "    .dataframe tbody tr th {\n",
       "        vertical-align: top;\n",
       "    }\n",
       "\n",
       "    .dataframe thead th {\n",
       "        text-align: right;\n",
       "    }\n",
       "</style>\n",
       "<table border=\"1\" class=\"dataframe\">\n",
       "  <thead>\n",
       "    <tr style=\"text-align: right;\">\n",
       "      <th></th>\n",
       "      <th>Unnamed: 0</th>\n",
       "      <th>date_</th>\n",
       "      <th>Total_watch_time_in_houres</th>\n",
       "    </tr>\n",
       "  </thead>\n",
       "  <tbody>\n",
       "    <tr>\n",
       "      <th>0</th>\n",
       "      <td>0</td>\n",
       "      <td>2018-01-01</td>\n",
       "      <td>1123.551944</td>\n",
       "    </tr>\n",
       "    <tr>\n",
       "      <th>1</th>\n",
       "      <td>1</td>\n",
       "      <td>2018-01-02</td>\n",
       "      <td>1000.129722</td>\n",
       "    </tr>\n",
       "    <tr>\n",
       "      <th>2</th>\n",
       "      <td>2</td>\n",
       "      <td>2018-01-03</td>\n",
       "      <td>881.924444</td>\n",
       "    </tr>\n",
       "    <tr>\n",
       "      <th>3</th>\n",
       "      <td>3</td>\n",
       "      <td>2018-01-04</td>\n",
       "      <td>782.669444</td>\n",
       "    </tr>\n",
       "    <tr>\n",
       "      <th>4</th>\n",
       "      <td>4</td>\n",
       "      <td>2018-01-05</td>\n",
       "      <td>1051.939444</td>\n",
       "    </tr>\n",
       "    <tr>\n",
       "      <th>...</th>\n",
       "      <td>...</td>\n",
       "      <td>...</td>\n",
       "      <td>...</td>\n",
       "    </tr>\n",
       "    <tr>\n",
       "      <th>81</th>\n",
       "      <td>81</td>\n",
       "      <td>2018-04-24</td>\n",
       "      <td>652.625278</td>\n",
       "    </tr>\n",
       "    <tr>\n",
       "      <th>82</th>\n",
       "      <td>82</td>\n",
       "      <td>2018-04-25</td>\n",
       "      <td>650.428889</td>\n",
       "    </tr>\n",
       "    <tr>\n",
       "      <th>83</th>\n",
       "      <td>83</td>\n",
       "      <td>2018-04-26</td>\n",
       "      <td>675.184444</td>\n",
       "    </tr>\n",
       "    <tr>\n",
       "      <th>84</th>\n",
       "      <td>84</td>\n",
       "      <td>2018-04-27</td>\n",
       "      <td>601.738056</td>\n",
       "    </tr>\n",
       "    <tr>\n",
       "      <th>85</th>\n",
       "      <td>85</td>\n",
       "      <td>2018-04-30</td>\n",
       "      <td>609.281667</td>\n",
       "    </tr>\n",
       "  </tbody>\n",
       "</table>\n",
       "<p>86 rows × 3 columns</p>\n",
       "</div>"
      ],
      "text/plain": [
       "    Unnamed: 0      date_  Total_watch_time_in_houres\n",
       "0            0 2018-01-01                 1123.551944\n",
       "1            1 2018-01-02                 1000.129722\n",
       "2            2 2018-01-03                  881.924444\n",
       "3            3 2018-01-04                  782.669444\n",
       "4            4 2018-01-05                 1051.939444\n",
       "..         ...        ...                         ...\n",
       "81          81 2018-04-24                  652.625278\n",
       "82          82 2018-04-25                  650.428889\n",
       "83          83 2018-04-26                  675.184444\n",
       "84          84 2018-04-27                  601.738056\n",
       "85          85 2018-04-30                  609.281667\n",
       "\n",
       "[86 rows x 3 columns]"
      ]
     },
     "execution_count": 87,
     "metadata": {},
     "output_type": "execute_result"
    }
   ],
   "source": [
    "df = pd.read_excel(\"stc TV Data Set_T2.xlsx\", sheet_name=\"Sheet1\") \n",
    "df"
   ]
  },
  {
   "cell_type": "code",
   "execution_count": 88,
   "id": "e7de8460-f792-4574-adc6-2b5d2f8d76b7",
   "metadata": {},
   "outputs": [],
   "source": [
    "# dropping the index col\n",
    "df = df.drop(columns=['Unnamed: 0'])"
   ]
  },
  {
   "cell_type": "code",
   "execution_count": 89,
   "id": "33b6eba3-4ebf-48c0-8658-d59561f8fd5a",
   "metadata": {},
   "outputs": [
    {
     "data": {
      "text/html": [
       "<div>\n",
       "<style scoped>\n",
       "    .dataframe tbody tr th:only-of-type {\n",
       "        vertical-align: middle;\n",
       "    }\n",
       "\n",
       "    .dataframe tbody tr th {\n",
       "        vertical-align: top;\n",
       "    }\n",
       "\n",
       "    .dataframe thead th {\n",
       "        text-align: right;\n",
       "    }\n",
       "</style>\n",
       "<table border=\"1\" class=\"dataframe\">\n",
       "  <thead>\n",
       "    <tr style=\"text-align: right;\">\n",
       "      <th></th>\n",
       "      <th>date_</th>\n",
       "      <th>Total_watch_time_in_houres</th>\n",
       "    </tr>\n",
       "  </thead>\n",
       "  <tbody>\n",
       "    <tr>\n",
       "      <th>0</th>\n",
       "      <td>2018-01-01</td>\n",
       "      <td>1123.551944</td>\n",
       "    </tr>\n",
       "    <tr>\n",
       "      <th>1</th>\n",
       "      <td>2018-01-02</td>\n",
       "      <td>1000.129722</td>\n",
       "    </tr>\n",
       "    <tr>\n",
       "      <th>2</th>\n",
       "      <td>2018-01-03</td>\n",
       "      <td>881.924444</td>\n",
       "    </tr>\n",
       "    <tr>\n",
       "      <th>3</th>\n",
       "      <td>2018-01-04</td>\n",
       "      <td>782.669444</td>\n",
       "    </tr>\n",
       "    <tr>\n",
       "      <th>4</th>\n",
       "      <td>2018-01-05</td>\n",
       "      <td>1051.939444</td>\n",
       "    </tr>\n",
       "    <tr>\n",
       "      <th>...</th>\n",
       "      <td>...</td>\n",
       "      <td>...</td>\n",
       "    </tr>\n",
       "    <tr>\n",
       "      <th>81</th>\n",
       "      <td>2018-04-24</td>\n",
       "      <td>652.625278</td>\n",
       "    </tr>\n",
       "    <tr>\n",
       "      <th>82</th>\n",
       "      <td>2018-04-25</td>\n",
       "      <td>650.428889</td>\n",
       "    </tr>\n",
       "    <tr>\n",
       "      <th>83</th>\n",
       "      <td>2018-04-26</td>\n",
       "      <td>675.184444</td>\n",
       "    </tr>\n",
       "    <tr>\n",
       "      <th>84</th>\n",
       "      <td>2018-04-27</td>\n",
       "      <td>601.738056</td>\n",
       "    </tr>\n",
       "    <tr>\n",
       "      <th>85</th>\n",
       "      <td>2018-04-30</td>\n",
       "      <td>609.281667</td>\n",
       "    </tr>\n",
       "  </tbody>\n",
       "</table>\n",
       "<p>86 rows × 2 columns</p>\n",
       "</div>"
      ],
      "text/plain": [
       "        date_  Total_watch_time_in_houres\n",
       "0  2018-01-01                 1123.551944\n",
       "1  2018-01-02                 1000.129722\n",
       "2  2018-01-03                  881.924444\n",
       "3  2018-01-04                  782.669444\n",
       "4  2018-01-05                 1051.939444\n",
       "..        ...                         ...\n",
       "81 2018-04-24                  652.625278\n",
       "82 2018-04-25                  650.428889\n",
       "83 2018-04-26                  675.184444\n",
       "84 2018-04-27                  601.738056\n",
       "85 2018-04-30                  609.281667\n",
       "\n",
       "[86 rows x 2 columns]"
      ]
     },
     "execution_count": 89,
     "metadata": {},
     "output_type": "execute_result"
    }
   ],
   "source": [
    "df"
   ]
  },
  {
   "cell_type": "code",
   "execution_count": 90,
   "id": "fc78b44d",
   "metadata": {},
   "outputs": [
    {
     "data": {
      "text/plain": [
       "(86, 2)"
      ]
     },
     "execution_count": 90,
     "metadata": {},
     "output_type": "execute_result"
    }
   ],
   "source": [
    "# checking the data shape\n",
    "df.shape"
   ]
  },
  {
   "cell_type": "code",
   "execution_count": 91,
   "id": "e2983d5e",
   "metadata": {},
   "outputs": [
    {
     "name": "stdout",
     "output_type": "stream",
     "text": [
      "<class 'pandas.core.frame.DataFrame'>\n",
      "RangeIndex: 86 entries, 0 to 85\n",
      "Data columns (total 2 columns):\n",
      " #   Column                      Non-Null Count  Dtype         \n",
      "---  ------                      --------------  -----         \n",
      " 0   date_                       86 non-null     datetime64[ns]\n",
      " 1   Total_watch_time_in_houres  86 non-null     float64       \n",
      "dtypes: datetime64[ns](1), float64(1)\n",
      "memory usage: 1.5 KB\n"
     ]
    }
   ],
   "source": [
    "df.info()"
   ]
  },
  {
   "cell_type": "code",
   "execution_count": 92,
   "id": "140f6cab",
   "metadata": {},
   "outputs": [
    {
     "data": {
      "text/html": [
       "<div>\n",
       "<style scoped>\n",
       "    .dataframe tbody tr th:only-of-type {\n",
       "        vertical-align: middle;\n",
       "    }\n",
       "\n",
       "    .dataframe tbody tr th {\n",
       "        vertical-align: top;\n",
       "    }\n",
       "\n",
       "    .dataframe thead th {\n",
       "        text-align: right;\n",
       "    }\n",
       "</style>\n",
       "<table border=\"1\" class=\"dataframe\">\n",
       "  <thead>\n",
       "    <tr style=\"text-align: right;\">\n",
       "      <th></th>\n",
       "      <th>Unnamed: 0</th>\n",
       "      <th>date_</th>\n",
       "      <th>Total_watch_time_in_houres</th>\n",
       "    </tr>\n",
       "  </thead>\n",
       "  <tbody>\n",
       "    <tr>\n",
       "      <th>count</th>\n",
       "      <td>86.000000</td>\n",
       "      <td>86</td>\n",
       "      <td>86.000000</td>\n",
       "    </tr>\n",
       "    <tr>\n",
       "      <th>mean</th>\n",
       "      <td>42.500000</td>\n",
       "      <td>2018-02-28 17:01:23.720930304</td>\n",
       "      <td>780.817926</td>\n",
       "    </tr>\n",
       "    <tr>\n",
       "      <th>min</th>\n",
       "      <td>0.000000</td>\n",
       "      <td>2018-01-01 00:00:00</td>\n",
       "      <td>562.124722</td>\n",
       "    </tr>\n",
       "    <tr>\n",
       "      <th>25%</th>\n",
       "      <td>21.250000</td>\n",
       "      <td>2018-01-30 06:00:00</td>\n",
       "      <td>707.709653</td>\n",
       "    </tr>\n",
       "    <tr>\n",
       "      <th>50%</th>\n",
       "      <td>42.500000</td>\n",
       "      <td>2018-02-28 12:00:00</td>\n",
       "      <td>763.181389</td>\n",
       "    </tr>\n",
       "    <tr>\n",
       "      <th>75%</th>\n",
       "      <td>63.750000</td>\n",
       "      <td>2018-03-29 18:00:00</td>\n",
       "      <td>840.985278</td>\n",
       "    </tr>\n",
       "    <tr>\n",
       "      <th>max</th>\n",
       "      <td>85.000000</td>\n",
       "      <td>2018-04-30 00:00:00</td>\n",
       "      <td>1123.551944</td>\n",
       "    </tr>\n",
       "    <tr>\n",
       "      <th>std</th>\n",
       "      <td>24.969982</td>\n",
       "      <td>NaN</td>\n",
       "      <td>122.992002</td>\n",
       "    </tr>\n",
       "  </tbody>\n",
       "</table>\n",
       "</div>"
      ],
      "text/plain": [
       "       Unnamed: 0                          date_  Total_watch_time_in_houres\n",
       "count   86.000000                             86                   86.000000\n",
       "mean    42.500000  2018-02-28 17:01:23.720930304                  780.817926\n",
       "min      0.000000            2018-01-01 00:00:00                  562.124722\n",
       "25%     21.250000            2018-01-30 06:00:00                  707.709653\n",
       "50%     42.500000            2018-02-28 12:00:00                  763.181389\n",
       "75%     63.750000            2018-03-29 18:00:00                  840.985278\n",
       "max     85.000000            2018-04-30 00:00:00                 1123.551944\n",
       "std     24.969982                            NaN                  122.992002"
      ]
     },
     "execution_count": 92,
     "metadata": {},
     "output_type": "execute_result"
    }
   ],
   "source": [
    "# describe the numeric values in the dataset\n",
    "dataframe.describe()"
   ]
  },
  {
   "cell_type": "code",
   "execution_count": 93,
   "id": "f71db3ad",
   "metadata": {},
   "outputs": [
    {
     "data": {
      "text/plain": [
       "date_                         False\n",
       "Total_watch_time_in_houres    False\n",
       "dtype: bool"
      ]
     },
     "execution_count": 93,
     "metadata": {},
     "output_type": "execute_result"
    }
   ],
   "source": [
    "# check if any column has null value in the dataset\n",
    "df.isnull().any()"
   ]
  },
  {
   "cell_type": "code",
   "execution_count": 94,
   "id": "328660e4-dea9-4bd8-a5d1-6bed01880d8a",
   "metadata": {},
   "outputs": [
    {
     "name": "stdout",
     "output_type": "stream",
     "text": [
      "Number of duplicate rows: 0\n"
     ]
    }
   ],
   "source": [
    "number_of_duplicates = df.duplicated().sum()\n",
    "print(f\"Number of duplicate rows: {number_of_duplicates}\")"
   ]
  },
  {
   "cell_type": "code",
   "execution_count": 95,
   "id": "4b39a4f6-28af-48df-a27a-7988c3970cfd",
   "metadata": {},
   "outputs": [],
   "source": [
    "# setting the date as index\n",
    "df.set_index('date_', inplace=True)"
   ]
  },
  {
   "cell_type": "code",
   "execution_count": 96,
   "id": "77902ae7",
   "metadata": {},
   "outputs": [
    {
     "data": {
      "text/html": [
       "<div>\n",
       "<style scoped>\n",
       "    .dataframe tbody tr th:only-of-type {\n",
       "        vertical-align: middle;\n",
       "    }\n",
       "\n",
       "    .dataframe tbody tr th {\n",
       "        vertical-align: top;\n",
       "    }\n",
       "\n",
       "    .dataframe thead th {\n",
       "        text-align: right;\n",
       "    }\n",
       "</style>\n",
       "<table border=\"1\" class=\"dataframe\">\n",
       "  <thead>\n",
       "    <tr style=\"text-align: right;\">\n",
       "      <th></th>\n",
       "      <th>Total_watch_time_in_houres</th>\n",
       "    </tr>\n",
       "    <tr>\n",
       "      <th>date_</th>\n",
       "      <th></th>\n",
       "    </tr>\n",
       "  </thead>\n",
       "  <tbody>\n",
       "    <tr>\n",
       "      <th>2018-01-01</th>\n",
       "      <td>1123.551944</td>\n",
       "    </tr>\n",
       "    <tr>\n",
       "      <th>2018-01-02</th>\n",
       "      <td>1000.129722</td>\n",
       "    </tr>\n",
       "    <tr>\n",
       "      <th>2018-01-03</th>\n",
       "      <td>881.924444</td>\n",
       "    </tr>\n",
       "    <tr>\n",
       "      <th>2018-01-04</th>\n",
       "      <td>782.669444</td>\n",
       "    </tr>\n",
       "    <tr>\n",
       "      <th>2018-01-05</th>\n",
       "      <td>1051.939444</td>\n",
       "    </tr>\n",
       "  </tbody>\n",
       "</table>\n",
       "</div>"
      ],
      "text/plain": [
       "            Total_watch_time_in_houres\n",
       "date_                                 \n",
       "2018-01-01                 1123.551944\n",
       "2018-01-02                 1000.129722\n",
       "2018-01-03                  881.924444\n",
       "2018-01-04                  782.669444\n",
       "2018-01-05                 1051.939444"
      ]
     },
     "execution_count": 96,
     "metadata": {},
     "output_type": "execute_result"
    }
   ],
   "source": [
    "# display the dataframe after setting the date as index\n",
    "df.head()"
   ]
  },
  {
   "cell_type": "code",
   "execution_count": 97,
   "id": "6c3ded84",
   "metadata": {},
   "outputs": [
    {
     "data": {
      "application/vnd.plotly.v1+json": {
       "config": {
        "plotlyServerURL": "https://plot.ly"
       },
       "data": [
        {
         "hovertemplate": "date_=%{x}<br>Total_watch_time_in_houres=%{y}<extra></extra>",
         "legendgroup": "",
         "line": {
          "color": "#636efa",
          "dash": "solid"
         },
         "marker": {
          "symbol": "circle"
         },
         "mode": "lines",
         "name": "",
         "orientation": "v",
         "showlegend": false,
         "type": "scatter",
         "x": [
          "2018-01-01T00:00:00.000000000",
          "2018-01-02T00:00:00.000000000",
          "2018-01-03T00:00:00.000000000",
          "2018-01-04T00:00:00.000000000",
          "2018-01-05T00:00:00.000000000",
          "2018-01-08T00:00:00.000000000",
          "2018-01-09T00:00:00.000000000",
          "2018-01-10T00:00:00.000000000",
          "2018-01-11T00:00:00.000000000",
          "2018-01-12T00:00:00.000000000",
          "2018-01-15T00:00:00.000000000",
          "2018-01-16T00:00:00.000000000",
          "2018-01-17T00:00:00.000000000",
          "2018-01-18T00:00:00.000000000",
          "2018-01-19T00:00:00.000000000",
          "2018-01-22T00:00:00.000000000",
          "2018-01-23T00:00:00.000000000",
          "2018-01-24T00:00:00.000000000",
          "2018-01-25T00:00:00.000000000",
          "2018-01-26T00:00:00.000000000",
          "2018-01-29T00:00:00.000000000",
          "2018-01-30T00:00:00.000000000",
          "2018-01-31T00:00:00.000000000",
          "2018-02-01T00:00:00.000000000",
          "2018-02-02T00:00:00.000000000",
          "2018-02-05T00:00:00.000000000",
          "2018-02-06T00:00:00.000000000",
          "2018-02-07T00:00:00.000000000",
          "2018-02-08T00:00:00.000000000",
          "2018-02-09T00:00:00.000000000",
          "2018-02-12T00:00:00.000000000",
          "2018-02-13T00:00:00.000000000",
          "2018-02-14T00:00:00.000000000",
          "2018-02-15T00:00:00.000000000",
          "2018-02-16T00:00:00.000000000",
          "2018-02-19T00:00:00.000000000",
          "2018-02-20T00:00:00.000000000",
          "2018-02-21T00:00:00.000000000",
          "2018-02-22T00:00:00.000000000",
          "2018-02-23T00:00:00.000000000",
          "2018-02-26T00:00:00.000000000",
          "2018-02-27T00:00:00.000000000",
          "2018-02-28T00:00:00.000000000",
          "2018-03-01T00:00:00.000000000",
          "2018-03-02T00:00:00.000000000",
          "2018-03-05T00:00:00.000000000",
          "2018-03-06T00:00:00.000000000",
          "2018-03-07T00:00:00.000000000",
          "2018-03-08T00:00:00.000000000",
          "2018-03-09T00:00:00.000000000",
          "2018-03-12T00:00:00.000000000",
          "2018-03-13T00:00:00.000000000",
          "2018-03-14T00:00:00.000000000",
          "2018-03-15T00:00:00.000000000",
          "2018-03-16T00:00:00.000000000",
          "2018-03-19T00:00:00.000000000",
          "2018-03-20T00:00:00.000000000",
          "2018-03-21T00:00:00.000000000",
          "2018-03-22T00:00:00.000000000",
          "2018-03-23T00:00:00.000000000",
          "2018-03-26T00:00:00.000000000",
          "2018-03-27T00:00:00.000000000",
          "2018-03-28T00:00:00.000000000",
          "2018-03-29T00:00:00.000000000",
          "2018-03-30T00:00:00.000000000",
          "2018-04-02T00:00:00.000000000",
          "2018-04-03T00:00:00.000000000",
          "2018-04-04T00:00:00.000000000",
          "2018-04-05T00:00:00.000000000",
          "2018-04-06T00:00:00.000000000",
          "2018-04-09T00:00:00.000000000",
          "2018-04-10T00:00:00.000000000",
          "2018-04-11T00:00:00.000000000",
          "2018-04-12T00:00:00.000000000",
          "2018-04-13T00:00:00.000000000",
          "2018-04-16T00:00:00.000000000",
          "2018-04-17T00:00:00.000000000",
          "2018-04-18T00:00:00.000000000",
          "2018-04-19T00:00:00.000000000",
          "2018-04-20T00:00:00.000000000",
          "2018-04-23T00:00:00.000000000",
          "2018-04-24T00:00:00.000000000",
          "2018-04-25T00:00:00.000000000",
          "2018-04-26T00:00:00.000000000",
          "2018-04-27T00:00:00.000000000",
          "2018-04-30T00:00:00.000000000"
         ],
         "xaxis": "x",
         "y": {
          "bdata": "YqjsMDWOkUAQ8M2rCUGPQN3+IENlj4tABluwBVt1iEAvdbn9wW+QQKDTBjptSYpAKVyPwvVLi0DNzMzMzFOOQDmO4zgOi4ZAZmZmZmYliEAWjQR881eGQEcCvnm1LIlAaSTgm9cji0A8KxoJ+IOIQI7jOI7jGoZAtOQXS37Bj0BUdpi6XECLQO0wdbl9JYxAP+mTPmnJh0B3d3d39wKMQAu2YAs2g4lAJ54VjQR0jUDaQKcNdMqJQNsfZKisdJBA0UjAN697jECV2x9kqKCPQELIUNlhBpBA+cWSXyzmiEA30GkDHduIQFyPwvUotI1ARERERMRbh0CUPumTPu+IQCo7TF1u/YpAGEt+sWRZhkAaCfjmVZCNQCIiIiKi3IZA/yBDZYdBhEAs+cWSXzCHQIFvXk08rYlAfPNq4lmGiEDm9gcZqkuGQNbEs6IRGIdAP+mTPmkKhUAqO0xd7jGHQBERERGRpYFAP+mTPumliEAXbMEWbBiGQIQMlR0mdYhATF1ufxD9hkD/IENlh5WIQLgehevRGIlA/yBDZYfgiEDYgi3YgsCKQJxXE88KJoZAHqYutz9DikAGW7AFW/OHQMP1KFyPsYRATxvotAHCh0Bi6nL7A62OQGPJL5b8pYdAPCsaCfh3iUBFIwHfPDuFQDtMXW7/kIFAmpmZmZlzh0BqA5020J+HQO0wdbl96YdAxbOikQDeg0CbeFY0klaGQOJZ0UhAHIpAk18s+UXHhkDgm1cTT+uCQBLwzauJw4dACfjm1UQdg0CwBVuwBd+CQAu2YAu2IIdAejXxrGhRhUA5juM4jneHQBoJ+ObVsIFAgW9eTTxTgkAs+cWSX+KFQDivJp4V94RAxbOikQBlhEAqO0xdblOEQItGAr55GYVA8M2riefNgkCnDXTaQAqDQA==",
          "dtype": "f8"
         },
         "yaxis": "y"
        }
       ],
       "layout": {
        "legend": {
         "tracegroupgap": 0
        },
        "margin": {
         "t": 60
        },
        "template": {
         "data": {
          "bar": [
           {
            "error_x": {
             "color": "#2a3f5f"
            },
            "error_y": {
             "color": "#2a3f5f"
            },
            "marker": {
             "line": {
              "color": "#E5ECF6",
              "width": 0.5
             },
             "pattern": {
              "fillmode": "overlay",
              "size": 10,
              "solidity": 0.2
             }
            },
            "type": "bar"
           }
          ],
          "barpolar": [
           {
            "marker": {
             "line": {
              "color": "#E5ECF6",
              "width": 0.5
             },
             "pattern": {
              "fillmode": "overlay",
              "size": 10,
              "solidity": 0.2
             }
            },
            "type": "barpolar"
           }
          ],
          "carpet": [
           {
            "aaxis": {
             "endlinecolor": "#2a3f5f",
             "gridcolor": "white",
             "linecolor": "white",
             "minorgridcolor": "white",
             "startlinecolor": "#2a3f5f"
            },
            "baxis": {
             "endlinecolor": "#2a3f5f",
             "gridcolor": "white",
             "linecolor": "white",
             "minorgridcolor": "white",
             "startlinecolor": "#2a3f5f"
            },
            "type": "carpet"
           }
          ],
          "choropleth": [
           {
            "colorbar": {
             "outlinewidth": 0,
             "ticks": ""
            },
            "type": "choropleth"
           }
          ],
          "contour": [
           {
            "colorbar": {
             "outlinewidth": 0,
             "ticks": ""
            },
            "colorscale": [
             [
              0,
              "#0d0887"
             ],
             [
              0.1111111111111111,
              "#46039f"
             ],
             [
              0.2222222222222222,
              "#7201a8"
             ],
             [
              0.3333333333333333,
              "#9c179e"
             ],
             [
              0.4444444444444444,
              "#bd3786"
             ],
             [
              0.5555555555555556,
              "#d8576b"
             ],
             [
              0.6666666666666666,
              "#ed7953"
             ],
             [
              0.7777777777777778,
              "#fb9f3a"
             ],
             [
              0.8888888888888888,
              "#fdca26"
             ],
             [
              1,
              "#f0f921"
             ]
            ],
            "type": "contour"
           }
          ],
          "contourcarpet": [
           {
            "colorbar": {
             "outlinewidth": 0,
             "ticks": ""
            },
            "type": "contourcarpet"
           }
          ],
          "heatmap": [
           {
            "colorbar": {
             "outlinewidth": 0,
             "ticks": ""
            },
            "colorscale": [
             [
              0,
              "#0d0887"
             ],
             [
              0.1111111111111111,
              "#46039f"
             ],
             [
              0.2222222222222222,
              "#7201a8"
             ],
             [
              0.3333333333333333,
              "#9c179e"
             ],
             [
              0.4444444444444444,
              "#bd3786"
             ],
             [
              0.5555555555555556,
              "#d8576b"
             ],
             [
              0.6666666666666666,
              "#ed7953"
             ],
             [
              0.7777777777777778,
              "#fb9f3a"
             ],
             [
              0.8888888888888888,
              "#fdca26"
             ],
             [
              1,
              "#f0f921"
             ]
            ],
            "type": "heatmap"
           }
          ],
          "histogram": [
           {
            "marker": {
             "pattern": {
              "fillmode": "overlay",
              "size": 10,
              "solidity": 0.2
             }
            },
            "type": "histogram"
           }
          ],
          "histogram2d": [
           {
            "colorbar": {
             "outlinewidth": 0,
             "ticks": ""
            },
            "colorscale": [
             [
              0,
              "#0d0887"
             ],
             [
              0.1111111111111111,
              "#46039f"
             ],
             [
              0.2222222222222222,
              "#7201a8"
             ],
             [
              0.3333333333333333,
              "#9c179e"
             ],
             [
              0.4444444444444444,
              "#bd3786"
             ],
             [
              0.5555555555555556,
              "#d8576b"
             ],
             [
              0.6666666666666666,
              "#ed7953"
             ],
             [
              0.7777777777777778,
              "#fb9f3a"
             ],
             [
              0.8888888888888888,
              "#fdca26"
             ],
             [
              1,
              "#f0f921"
             ]
            ],
            "type": "histogram2d"
           }
          ],
          "histogram2dcontour": [
           {
            "colorbar": {
             "outlinewidth": 0,
             "ticks": ""
            },
            "colorscale": [
             [
              0,
              "#0d0887"
             ],
             [
              0.1111111111111111,
              "#46039f"
             ],
             [
              0.2222222222222222,
              "#7201a8"
             ],
             [
              0.3333333333333333,
              "#9c179e"
             ],
             [
              0.4444444444444444,
              "#bd3786"
             ],
             [
              0.5555555555555556,
              "#d8576b"
             ],
             [
              0.6666666666666666,
              "#ed7953"
             ],
             [
              0.7777777777777778,
              "#fb9f3a"
             ],
             [
              0.8888888888888888,
              "#fdca26"
             ],
             [
              1,
              "#f0f921"
             ]
            ],
            "type": "histogram2dcontour"
           }
          ],
          "mesh3d": [
           {
            "colorbar": {
             "outlinewidth": 0,
             "ticks": ""
            },
            "type": "mesh3d"
           }
          ],
          "parcoords": [
           {
            "line": {
             "colorbar": {
              "outlinewidth": 0,
              "ticks": ""
             }
            },
            "type": "parcoords"
           }
          ],
          "pie": [
           {
            "automargin": true,
            "type": "pie"
           }
          ],
          "scatter": [
           {
            "fillpattern": {
             "fillmode": "overlay",
             "size": 10,
             "solidity": 0.2
            },
            "type": "scatter"
           }
          ],
          "scatter3d": [
           {
            "line": {
             "colorbar": {
              "outlinewidth": 0,
              "ticks": ""
             }
            },
            "marker": {
             "colorbar": {
              "outlinewidth": 0,
              "ticks": ""
             }
            },
            "type": "scatter3d"
           }
          ],
          "scattercarpet": [
           {
            "marker": {
             "colorbar": {
              "outlinewidth": 0,
              "ticks": ""
             }
            },
            "type": "scattercarpet"
           }
          ],
          "scattergeo": [
           {
            "marker": {
             "colorbar": {
              "outlinewidth": 0,
              "ticks": ""
             }
            },
            "type": "scattergeo"
           }
          ],
          "scattergl": [
           {
            "marker": {
             "colorbar": {
              "outlinewidth": 0,
              "ticks": ""
             }
            },
            "type": "scattergl"
           }
          ],
          "scattermap": [
           {
            "marker": {
             "colorbar": {
              "outlinewidth": 0,
              "ticks": ""
             }
            },
            "type": "scattermap"
           }
          ],
          "scattermapbox": [
           {
            "marker": {
             "colorbar": {
              "outlinewidth": 0,
              "ticks": ""
             }
            },
            "type": "scattermapbox"
           }
          ],
          "scatterpolar": [
           {
            "marker": {
             "colorbar": {
              "outlinewidth": 0,
              "ticks": ""
             }
            },
            "type": "scatterpolar"
           }
          ],
          "scatterpolargl": [
           {
            "marker": {
             "colorbar": {
              "outlinewidth": 0,
              "ticks": ""
             }
            },
            "type": "scatterpolargl"
           }
          ],
          "scatterternary": [
           {
            "marker": {
             "colorbar": {
              "outlinewidth": 0,
              "ticks": ""
             }
            },
            "type": "scatterternary"
           }
          ],
          "surface": [
           {
            "colorbar": {
             "outlinewidth": 0,
             "ticks": ""
            },
            "colorscale": [
             [
              0,
              "#0d0887"
             ],
             [
              0.1111111111111111,
              "#46039f"
             ],
             [
              0.2222222222222222,
              "#7201a8"
             ],
             [
              0.3333333333333333,
              "#9c179e"
             ],
             [
              0.4444444444444444,
              "#bd3786"
             ],
             [
              0.5555555555555556,
              "#d8576b"
             ],
             [
              0.6666666666666666,
              "#ed7953"
             ],
             [
              0.7777777777777778,
              "#fb9f3a"
             ],
             [
              0.8888888888888888,
              "#fdca26"
             ],
             [
              1,
              "#f0f921"
             ]
            ],
            "type": "surface"
           }
          ],
          "table": [
           {
            "cells": {
             "fill": {
              "color": "#EBF0F8"
             },
             "line": {
              "color": "white"
             }
            },
            "header": {
             "fill": {
              "color": "#C8D4E3"
             },
             "line": {
              "color": "white"
             }
            },
            "type": "table"
           }
          ]
         },
         "layout": {
          "annotationdefaults": {
           "arrowcolor": "#2a3f5f",
           "arrowhead": 0,
           "arrowwidth": 1
          },
          "autotypenumbers": "strict",
          "coloraxis": {
           "colorbar": {
            "outlinewidth": 0,
            "ticks": ""
           }
          },
          "colorscale": {
           "diverging": [
            [
             0,
             "#8e0152"
            ],
            [
             0.1,
             "#c51b7d"
            ],
            [
             0.2,
             "#de77ae"
            ],
            [
             0.3,
             "#f1b6da"
            ],
            [
             0.4,
             "#fde0ef"
            ],
            [
             0.5,
             "#f7f7f7"
            ],
            [
             0.6,
             "#e6f5d0"
            ],
            [
             0.7,
             "#b8e186"
            ],
            [
             0.8,
             "#7fbc41"
            ],
            [
             0.9,
             "#4d9221"
            ],
            [
             1,
             "#276419"
            ]
           ],
           "sequential": [
            [
             0,
             "#0d0887"
            ],
            [
             0.1111111111111111,
             "#46039f"
            ],
            [
             0.2222222222222222,
             "#7201a8"
            ],
            [
             0.3333333333333333,
             "#9c179e"
            ],
            [
             0.4444444444444444,
             "#bd3786"
            ],
            [
             0.5555555555555556,
             "#d8576b"
            ],
            [
             0.6666666666666666,
             "#ed7953"
            ],
            [
             0.7777777777777778,
             "#fb9f3a"
            ],
            [
             0.8888888888888888,
             "#fdca26"
            ],
            [
             1,
             "#f0f921"
            ]
           ],
           "sequentialminus": [
            [
             0,
             "#0d0887"
            ],
            [
             0.1111111111111111,
             "#46039f"
            ],
            [
             0.2222222222222222,
             "#7201a8"
            ],
            [
             0.3333333333333333,
             "#9c179e"
            ],
            [
             0.4444444444444444,
             "#bd3786"
            ],
            [
             0.5555555555555556,
             "#d8576b"
            ],
            [
             0.6666666666666666,
             "#ed7953"
            ],
            [
             0.7777777777777778,
             "#fb9f3a"
            ],
            [
             0.8888888888888888,
             "#fdca26"
            ],
            [
             1,
             "#f0f921"
            ]
           ]
          },
          "colorway": [
           "#636efa",
           "#EF553B",
           "#00cc96",
           "#ab63fa",
           "#FFA15A",
           "#19d3f3",
           "#FF6692",
           "#B6E880",
           "#FF97FF",
           "#FECB52"
          ],
          "font": {
           "color": "#2a3f5f"
          },
          "geo": {
           "bgcolor": "white",
           "lakecolor": "white",
           "landcolor": "#E5ECF6",
           "showlakes": true,
           "showland": true,
           "subunitcolor": "white"
          },
          "hoverlabel": {
           "align": "left"
          },
          "hovermode": "closest",
          "mapbox": {
           "style": "light"
          },
          "paper_bgcolor": "white",
          "plot_bgcolor": "#E5ECF6",
          "polar": {
           "angularaxis": {
            "gridcolor": "white",
            "linecolor": "white",
            "ticks": ""
           },
           "bgcolor": "#E5ECF6",
           "radialaxis": {
            "gridcolor": "white",
            "linecolor": "white",
            "ticks": ""
           }
          },
          "scene": {
           "xaxis": {
            "backgroundcolor": "#E5ECF6",
            "gridcolor": "white",
            "gridwidth": 2,
            "linecolor": "white",
            "showbackground": true,
            "ticks": "",
            "zerolinecolor": "white"
           },
           "yaxis": {
            "backgroundcolor": "#E5ECF6",
            "gridcolor": "white",
            "gridwidth": 2,
            "linecolor": "white",
            "showbackground": true,
            "ticks": "",
            "zerolinecolor": "white"
           },
           "zaxis": {
            "backgroundcolor": "#E5ECF6",
            "gridcolor": "white",
            "gridwidth": 2,
            "linecolor": "white",
            "showbackground": true,
            "ticks": "",
            "zerolinecolor": "white"
           }
          },
          "shapedefaults": {
           "line": {
            "color": "#2a3f5f"
           }
          },
          "ternary": {
           "aaxis": {
            "gridcolor": "white",
            "linecolor": "white",
            "ticks": ""
           },
           "baxis": {
            "gridcolor": "white",
            "linecolor": "white",
            "ticks": ""
           },
           "bgcolor": "#E5ECF6",
           "caxis": {
            "gridcolor": "white",
            "linecolor": "white",
            "ticks": ""
           }
          },
          "title": {
           "x": 0.05
          },
          "xaxis": {
           "automargin": true,
           "gridcolor": "white",
           "linecolor": "white",
           "ticks": "",
           "title": {
            "standoff": 15
           },
           "zerolinecolor": "white",
           "zerolinewidth": 2
          },
          "yaxis": {
           "automargin": true,
           "gridcolor": "white",
           "linecolor": "white",
           "ticks": "",
           "title": {
            "standoff": 15
           },
           "zerolinecolor": "white",
           "zerolinewidth": 2
          }
         }
        },
        "xaxis": {
         "anchor": "y",
         "domain": [
          0,
          1
         ],
         "title": {
          "text": "date_"
         }
        },
        "yaxis": {
         "anchor": "x",
         "domain": [
          0,
          1
         ],
         "title": {
          "text": "Total_watch_time_in_houres"
         }
        }
       }
      },
      "image/png": "[encoded data removed]"
     },
     "metadata": {},
     "output_type": "display_data"
    }
   ],
   "source": [
    "# showing the df\n",
    "fig = px.line(df,  y=\"Total_watch_time_in_houres\")\n",
    "fig.show()"
   ]
  },
  {
   "cell_type": "markdown",
   "id": "c1ebb4d7-21e9-4a20-9e51-d652d9679985",
   "metadata": {},
   "source": [
    "## Prophet Forecast Model:"
   ]
  },
  {
   "cell_type": "code",
   "execution_count": 121,
   "id": "78a835bd-8b24-4629-81dd-cc63a751e187",
   "metadata": {},
   "outputs": [
    {
     "name": "stdout",
     "output_type": "stream",
     "text": [
      "DataFrame prepared for Prophet:\n",
      "          ds            y\n",
      "0 2018-01-01  1123.551944\n",
      "1 2018-01-02  1000.129722\n",
      "2 2018-01-03   881.924444\n",
      "3 2018-01-04   782.669444\n",
      "4 2018-01-05  1051.939444\n"
     ]
    }
   ],
   "source": [
    "# reset the index to make 'date_' a regular column, then rename cols for Prophet\n",
    "prophet_df = df.reset_index() \n",
    "prophet_df.rename(columns={'date_': 'ds', 'Total_watch_time_in_houres': 'y'}, inplace=True)\n",
    "\n",
    "# display the first few rows of the prepared dataFrame to check\n",
    "print(\"DataFrame prepared for Prophet:\")\n",
    "print(prophet_df.head())"
   ]
  },
  {
   "cell_type": "code",
   "execution_count": 124,
   "id": "267bc6fa-4b73-485c-a6a2-9d1f4d782260",
   "metadata": {},
   "outputs": [
    {
     "name": "stderr",
     "output_type": "stream",
     "text": [
      "04:28:43 - cmdstanpy - INFO - Chain [1] start processing\n",
      "04:28:44 - cmdstanpy - INFO - Chain [1] done processing\n"
     ]
    },
    {
     "name": "stdout",
     "output_type": "stream",
     "text": [
      " Prophet model fitted.\n"
     ]
    }
   ],
   "source": [
    "# initialize the Prophet model\n",
    "model = Prophet(weekly_seasonality=True, daily_seasonality=False)\n",
    "\n",
    "# fitting the model to the historical data\n",
    "model.fit(prophet_df)\n",
    "print(\" Prophet model fitted.\")"
   ]
  },
  {
   "cell_type": "code",
   "execution_count": 125,
   "id": "5f85ce71-d51f-463e-b96f-f724418d0923",
   "metadata": {},
   "outputs": [
    {
     "name": "stdout",
     "output_type": "stream",
     "text": [
      "glimpse of the future dates this will predict for (last 5)\n",
      "            ds\n",
      "141 2018-06-25\n",
      "142 2018-06-26\n",
      "143 2018-06-27\n",
      "144 2018-06-28\n",
      "145 2018-06-29\n"
     ]
    }
   ],
   "source": [
    "# lets ask prophet for the next 60 days forecasting\n",
    "future_dates_df = model.make_future_dataframe(periods=60, freq='D')\n",
    "print(\"glimpse of the future dates this will predict for (last 5)\")\n",
    "print(future_dates_df.tail())"
   ]
  },
  {
   "cell_type": "code",
   "execution_count": 126,
   "id": "28d0431d-1522-4e7f-baec-fd022cf8b376",
   "metadata": {},
   "outputs": [
    {
     "name": "stdout",
     "output_type": "stream",
     "text": [
      "\n",
      "--- Our model's forecast (last 5 predictions) ---\n",
      "            ds        yhat  yhat_lower  yhat_upper\n",
      "141 2018-06-25  527.043849  413.735021  648.039805\n",
      "142 2018-06-26  514.130000  396.479769  628.265898\n",
      "143 2018-06-27  495.176921  370.959695  617.496177\n",
      "144 2018-06-28  496.827140  383.419295  619.706719\n",
      "145 2018-06-29  522.821623  408.016160  649.189014\n"
     ]
    }
   ],
   "source": [
    "forecast_df = model.predict(future_dates_df)\n",
    "\n",
    "# this will show us the predictions for the last 5, for yhat, yhat_lower and yhat_upper\n",
    "print(\"\\n--- Our model's forecast (last 5 predictions) ---\")\n",
    "print(forecast_df[['ds', 'yhat', 'yhat_lower', 'yhat_upper']].tail())"
   ]
  },
  {
   "cell_type": "code",
   "execution_count": 127,
   "id": "784b17ce-0150-40c6-8b93-7662cf2a83cb",
   "metadata": {},
   "outputs": [
    {
     "data": {
      "image/png": "[encoded data removed]",
      "text/plain": [
       "<Figure size 1200x600 with 1 Axes>"
      ]
     },
     "metadata": {},
     "output_type": "display_data"
    }
   ],
   "source": [
    "# plotting only the forecast for the next two months\n",
    "last_historical_date = prophet_df['ds'].max()\n",
    "\n",
    "future_forecast_only_df = forecast_df[forecast_df['ds'] > last_historical_date]\n",
    "plt.figure(figsize=(12, 6))\n",
    "\n",
    "# plotting (yhat)\n",
    "plt.plot(future_forecast_only_df['ds'], future_forecast_only_df['yhat'], label='Forecast (yhat)', color='dodgerblue')\n",
    "\n",
    "# plotting the (yhat_lower and yhat_upper)\n",
    "plt.fill_between(future_forecast_only_df['ds'],\n",
    "                 future_forecast_only_df['yhat_lower'],\n",
    "                 future_forecast_only_df['yhat_upper'],\n",
    "                 color='skyblue',  \n",
    "                 alpha=0.4,\n",
    "                 label='Uncertainty Interval')\n",
    "\n",
    "plt.title('Forecast of Total Watch Time for Next 2 Months (Future Only)')\n",
    "plt.xlabel('Date')\n",
    "plt.ylabel('Predicted Total Watch Time in Houres')\n",
    "plt.legend()\n",
    "plt.grid(True)\n",
    "plt.xticks(rotation=45)  \n",
    "plt.tight_layout()       \n",
    "plt.show()"
   ]
  },
  {
   "cell_type": "code",
   "execution_count": 128,
   "id": "47639568-b474-4b2a-a4b3-279f3a6355a3",
   "metadata": {},
   "outputs": [
    {
     "data": {
      "text/html": [
       "<div>\n",
       "<style scoped>\n",
       "    .dataframe tbody tr th:only-of-type {\n",
       "        vertical-align: middle;\n",
       "    }\n",
       "\n",
       "    .dataframe tbody tr th {\n",
       "        vertical-align: top;\n",
       "    }\n",
       "\n",
       "    .dataframe thead th {\n",
       "        text-align: right;\n",
       "    }\n",
       "</style>\n",
       "<table border=\"1\" class=\"dataframe\">\n",
       "  <thead>\n",
       "    <tr style=\"text-align: right;\">\n",
       "      <th></th>\n",
       "      <th>ds</th>\n",
       "      <th>trend</th>\n",
       "      <th>yhat_lower</th>\n",
       "      <th>yhat_upper</th>\n",
       "      <th>trend_lower</th>\n",
       "      <th>trend_upper</th>\n",
       "      <th>additive_terms</th>\n",
       "      <th>additive_terms_lower</th>\n",
       "      <th>additive_terms_upper</th>\n",
       "      <th>weekly</th>\n",
       "      <th>weekly_lower</th>\n",
       "      <th>weekly_upper</th>\n",
       "      <th>multiplicative_terms</th>\n",
       "      <th>multiplicative_terms_lower</th>\n",
       "      <th>multiplicative_terms_upper</th>\n",
       "      <th>yhat</th>\n",
       "    </tr>\n",
       "  </thead>\n",
       "  <tbody>\n",
       "    <tr>\n",
       "      <th>0</th>\n",
       "      <td>2018-01-01</td>\n",
       "      <td>508.021877</td>\n",
       "      <td>815.021865</td>\n",
       "      <td>1038.639378</td>\n",
       "      <td>508.021877</td>\n",
       "      <td>508.021877</td>\n",
       "      <td>417.696219</td>\n",
       "      <td>417.696219</td>\n",
       "      <td>417.696219</td>\n",
       "      <td>417.696219</td>\n",
       "      <td>417.696219</td>\n",
       "      <td>417.696219</td>\n",
       "      <td>0.0</td>\n",
       "      <td>0.0</td>\n",
       "      <td>0.0</td>\n",
       "      <td>925.718096</td>\n",
       "    </tr>\n",
       "    <tr>\n",
       "      <th>1</th>\n",
       "      <td>2018-01-02</td>\n",
       "      <td>505.743738</td>\n",
       "      <td>795.077005</td>\n",
       "      <td>1031.168430</td>\n",
       "      <td>505.743738</td>\n",
       "      <td>505.743738</td>\n",
       "      <td>407.060508</td>\n",
       "      <td>407.060508</td>\n",
       "      <td>407.060508</td>\n",
       "      <td>407.060508</td>\n",
       "      <td>407.060508</td>\n",
       "      <td>407.060508</td>\n",
       "      <td>0.0</td>\n",
       "      <td>0.0</td>\n",
       "      <td>0.0</td>\n",
       "      <td>912.804246</td>\n",
       "    </tr>\n",
       "    <tr>\n",
       "      <th>2</th>\n",
       "      <td>2018-01-03</td>\n",
       "      <td>503.465600</td>\n",
       "      <td>788.703616</td>\n",
       "      <td>1020.192727</td>\n",
       "      <td>503.465600</td>\n",
       "      <td>503.465600</td>\n",
       "      <td>390.385568</td>\n",
       "      <td>390.385568</td>\n",
       "      <td>390.385568</td>\n",
       "      <td>390.385568</td>\n",
       "      <td>390.385568</td>\n",
       "      <td>390.385568</td>\n",
       "      <td>0.0</td>\n",
       "      <td>0.0</td>\n",
       "      <td>0.0</td>\n",
       "      <td>893.851168</td>\n",
       "    </tr>\n",
       "    <tr>\n",
       "      <th>3</th>\n",
       "      <td>2018-01-04</td>\n",
       "      <td>501.187461</td>\n",
       "      <td>779.673757</td>\n",
       "      <td>1013.906885</td>\n",
       "      <td>501.187461</td>\n",
       "      <td>501.187461</td>\n",
       "      <td>394.313926</td>\n",
       "      <td>394.313926</td>\n",
       "      <td>394.313926</td>\n",
       "      <td>394.313926</td>\n",
       "      <td>394.313926</td>\n",
       "      <td>394.313926</td>\n",
       "      <td>0.0</td>\n",
       "      <td>0.0</td>\n",
       "      <td>0.0</td>\n",
       "      <td>895.501387</td>\n",
       "    </tr>\n",
       "    <tr>\n",
       "      <th>4</th>\n",
       "      <td>2018-01-05</td>\n",
       "      <td>498.909323</td>\n",
       "      <td>808.070004</td>\n",
       "      <td>1038.082595</td>\n",
       "      <td>498.909323</td>\n",
       "      <td>498.909323</td>\n",
       "      <td>422.586547</td>\n",
       "      <td>422.586547</td>\n",
       "      <td>422.586547</td>\n",
       "      <td>422.586547</td>\n",
       "      <td>422.586547</td>\n",
       "      <td>422.586547</td>\n",
       "      <td>0.0</td>\n",
       "      <td>0.0</td>\n",
       "      <td>0.0</td>\n",
       "      <td>921.495869</td>\n",
       "    </tr>\n",
       "    <tr>\n",
       "      <th>...</th>\n",
       "      <td>...</td>\n",
       "      <td>...</td>\n",
       "      <td>...</td>\n",
       "      <td>...</td>\n",
       "      <td>...</td>\n",
       "      <td>...</td>\n",
       "      <td>...</td>\n",
       "      <td>...</td>\n",
       "      <td>...</td>\n",
       "      <td>...</td>\n",
       "      <td>...</td>\n",
       "      <td>...</td>\n",
       "      <td>...</td>\n",
       "      <td>...</td>\n",
       "      <td>...</td>\n",
       "      <td>...</td>\n",
       "    </tr>\n",
       "    <tr>\n",
       "      <th>141</th>\n",
       "      <td>2018-06-25</td>\n",
       "      <td>109.347630</td>\n",
       "      <td>413.735021</td>\n",
       "      <td>648.039805</td>\n",
       "      <td>109.347613</td>\n",
       "      <td>109.347651</td>\n",
       "      <td>417.696219</td>\n",
       "      <td>417.696219</td>\n",
       "      <td>417.696219</td>\n",
       "      <td>417.696219</td>\n",
       "      <td>417.696219</td>\n",
       "      <td>417.696219</td>\n",
       "      <td>0.0</td>\n",
       "      <td>0.0</td>\n",
       "      <td>0.0</td>\n",
       "      <td>527.043849</td>\n",
       "    </tr>\n",
       "    <tr>\n",
       "      <th>142</th>\n",
       "      <td>2018-06-26</td>\n",
       "      <td>107.069492</td>\n",
       "      <td>396.479769</td>\n",
       "      <td>628.265898</td>\n",
       "      <td>107.069473</td>\n",
       "      <td>107.069513</td>\n",
       "      <td>407.060508</td>\n",
       "      <td>407.060508</td>\n",
       "      <td>407.060508</td>\n",
       "      <td>407.060508</td>\n",
       "      <td>407.060508</td>\n",
       "      <td>407.060508</td>\n",
       "      <td>0.0</td>\n",
       "      <td>0.0</td>\n",
       "      <td>0.0</td>\n",
       "      <td>514.130000</td>\n",
       "    </tr>\n",
       "    <tr>\n",
       "      <th>143</th>\n",
       "      <td>2018-06-27</td>\n",
       "      <td>104.791353</td>\n",
       "      <td>370.959695</td>\n",
       "      <td>617.496177</td>\n",
       "      <td>104.791334</td>\n",
       "      <td>104.791375</td>\n",
       "      <td>390.385568</td>\n",
       "      <td>390.385568</td>\n",
       "      <td>390.385568</td>\n",
       "      <td>390.385568</td>\n",
       "      <td>390.385568</td>\n",
       "      <td>390.385568</td>\n",
       "      <td>0.0</td>\n",
       "      <td>0.0</td>\n",
       "      <td>0.0</td>\n",
       "      <td>495.176921</td>\n",
       "    </tr>\n",
       "    <tr>\n",
       "      <th>144</th>\n",
       "      <td>2018-06-28</td>\n",
       "      <td>102.513215</td>\n",
       "      <td>383.419295</td>\n",
       "      <td>619.706719</td>\n",
       "      <td>102.513195</td>\n",
       "      <td>102.513237</td>\n",
       "      <td>394.313926</td>\n",
       "      <td>394.313926</td>\n",
       "      <td>394.313926</td>\n",
       "      <td>394.313926</td>\n",
       "      <td>394.313926</td>\n",
       "      <td>394.313926</td>\n",
       "      <td>0.0</td>\n",
       "      <td>0.0</td>\n",
       "      <td>0.0</td>\n",
       "      <td>496.827140</td>\n",
       "    </tr>\n",
       "    <tr>\n",
       "      <th>145</th>\n",
       "      <td>2018-06-29</td>\n",
       "      <td>100.235076</td>\n",
       "      <td>408.016160</td>\n",
       "      <td>649.189014</td>\n",
       "      <td>100.235056</td>\n",
       "      <td>100.235099</td>\n",
       "      <td>422.586547</td>\n",
       "      <td>422.586547</td>\n",
       "      <td>422.586547</td>\n",
       "      <td>422.586547</td>\n",
       "      <td>422.586547</td>\n",
       "      <td>422.586547</td>\n",
       "      <td>0.0</td>\n",
       "      <td>0.0</td>\n",
       "      <td>0.0</td>\n",
       "      <td>522.821623</td>\n",
       "    </tr>\n",
       "  </tbody>\n",
       "</table>\n",
       "<p>146 rows × 16 columns</p>\n",
       "</div>"
      ],
      "text/plain": [
       "            ds       trend  yhat_lower   yhat_upper  trend_lower  trend_upper  \\\n",
       "0   2018-01-01  508.021877  815.021865  1038.639378   508.021877   508.021877   \n",
       "1   2018-01-02  505.743738  795.077005  1031.168430   505.743738   505.743738   \n",
       "2   2018-01-03  503.465600  788.703616  1020.192727   503.465600   503.465600   \n",
       "3   2018-01-04  501.187461  779.673757  1013.906885   501.187461   501.187461   \n",
       "4   2018-01-05  498.909323  808.070004  1038.082595   498.909323   498.909323   \n",
       "..         ...         ...         ...          ...          ...          ...   \n",
       "141 2018-06-25  109.347630  413.735021   648.039805   109.347613   109.347651   \n",
       "142 2018-06-26  107.069492  396.479769   628.265898   107.069473   107.069513   \n",
       "143 2018-06-27  104.791353  370.959695   617.496177   104.791334   104.791375   \n",
       "144 2018-06-28  102.513215  383.419295   619.706719   102.513195   102.513237   \n",
       "145 2018-06-29  100.235076  408.016160   649.189014   100.235056   100.235099   \n",
       "\n",
       "     additive_terms  additive_terms_lower  additive_terms_upper      weekly  \\\n",
       "0        417.696219            417.696219            417.696219  417.696219   \n",
       "1        407.060508            407.060508            407.060508  407.060508   \n",
       "2        390.385568            390.385568            390.385568  390.385568   \n",
       "3        394.313926            394.313926            394.313926  394.313926   \n",
       "4        422.586547            422.586547            422.586547  422.586547   \n",
       "..              ...                   ...                   ...         ...   \n",
       "141      417.696219            417.696219            417.696219  417.696219   \n",
       "142      407.060508            407.060508            407.060508  407.060508   \n",
       "143      390.385568            390.385568            390.385568  390.385568   \n",
       "144      394.313926            394.313926            394.313926  394.313926   \n",
       "145      422.586547            422.586547            422.586547  422.586547   \n",
       "\n",
       "     weekly_lower  weekly_upper  multiplicative_terms  \\\n",
       "0      417.696219    417.696219                   0.0   \n",
       "1      407.060508    407.060508                   0.0   \n",
       "2      390.385568    390.385568                   0.0   \n",
       "3      394.313926    394.313926                   0.0   \n",
       "4      422.586547    422.586547                   0.0   \n",
       "..            ...           ...                   ...   \n",
       "141    417.696219    417.696219                   0.0   \n",
       "142    407.060508    407.060508                   0.0   \n",
       "143    390.385568    390.385568                   0.0   \n",
       "144    394.313926    394.313926                   0.0   \n",
       "145    422.586547    422.586547                   0.0   \n",
       "\n",
       "     multiplicative_terms_lower  multiplicative_terms_upper        yhat  \n",
       "0                           0.0                         0.0  925.718096  \n",
       "1                           0.0                         0.0  912.804246  \n",
       "2                           0.0                         0.0  893.851168  \n",
       "3                           0.0                         0.0  895.501387  \n",
       "4                           0.0                         0.0  921.495869  \n",
       "..                          ...                         ...         ...  \n",
       "141                         0.0                         0.0  527.043849  \n",
       "142                         0.0                         0.0  514.130000  \n",
       "143                         0.0                         0.0  495.176921  \n",
       "144                         0.0                         0.0  496.827140  \n",
       "145                         0.0                         0.0  522.821623  \n",
       "\n",
       "[146 rows x 16 columns]"
      ]
     },
     "execution_count": 128,
     "metadata": {},
     "output_type": "execute_result"
    }
   ],
   "source": [
    "# output of prophet model.predict() method\n",
    "forecast_df"
   ]
  },
  {
   "cell_type": "code",
   "execution_count": 131,
   "id": "08cad7cb-9c86-4647-9ade-cac0c9d98fc3",
   "metadata": {},
   "outputs": [
    {
     "name": "stdout",
     "output_type": "stream",
     "text": [
      " Plotting Historical Data and Future Forecast\n"
     ]
    },
    {
     "data": {
      "image/png": "[encoded data removed]",
      "text/plain": [
       "<Figure size 1000x600 with 1 Axes>"
      ]
     },
     "metadata": {},
     "output_type": "display_data"
    }
   ],
   "source": [
    "# combining the past and future forecast data in a plot\n",
    "if forecast_df is not None:\n",
    "    print(\" Plotting Historical Data and Future Forecast\")\n",
    "    fig_combined = model.plot(forecast_df)\n",
    "    \n",
    "    plt.title('Past Data and Forecast of Total Watch Time in Houres')\n",
    "    plt.xlabel('Date')\n",
    "    plt.ylabel('Total Watch Time in Houres')\n",
    "    \n",
    "    if not prophet_df.empty: \n",
    "        last_historical_date = prophet_df['ds'].max()\n",
    "        plt.axvline(x=last_historical_date, color='red', linestyle='--', label='Forecast Start')\n",
    "        plt.legend() \n",
    "\n",
    "plt.show()"
   ]
  },
  {
   "cell_type": "code",
   "execution_count": 132,
   "id": "232df8cd-f461-4ffc-9cdd-d4281d2b1f78",
   "metadata": {},
   "outputs": [
    {
     "name": "stdout",
     "output_type": "stream",
     "text": [
      "0      925.718096\n",
      "1      912.804246\n",
      "2      893.851168\n",
      "3      895.501387\n",
      "4      921.495869\n",
      "          ...    \n",
      "141    527.043849\n",
      "142    514.130000\n",
      "143    495.176921\n",
      "144    496.827140\n",
      "145    522.821623\n",
      "Name: yhat, Length: 146, dtype: float64\n"
     ]
    }
   ],
   "source": [
    "print(forecast_df['yhat'])"
   ]
  },
  {
   "cell_type": "code",
   "execution_count": 135,
   "id": "af9ec9d6-0639-413f-8b32-934f9780f549",
   "metadata": {},
   "outputs": [
    {
     "data": {
      "image/png": "[encoded data removed]",
      "text/plain": [
       "<Figure size 900x600 with 2 Axes>"
      ]
     },
     "metadata": {},
     "output_type": "display_data"
    }
   ],
   "source": [
    "# lets break down the forecast to see what patterns the model got (like overall trend and weekly habits)\n",
    "try:\n",
    "    fig2 = model.plot_components(forecast_df)\n",
    "    plt.show()\n",
    "except Exception as e:\n",
    "    print(f\"Could not plot components: {e}\")\n"
   ]
  },
  {
   "cell_type": "code",
   "execution_count": 138,
   "id": "8360ca26-e390-4415-867c-ceb72d59fc9b",
   "metadata": {},
   "outputs": [
    {
     "data": {
      "text/html": [
       "<div>\n",
       "<style scoped>\n",
       "    .dataframe tbody tr th:only-of-type {\n",
       "        vertical-align: middle;\n",
       "    }\n",
       "\n",
       "    .dataframe tbody tr th {\n",
       "        vertical-align: top;\n",
       "    }\n",
       "\n",
       "    .dataframe thead th {\n",
       "        text-align: right;\n",
       "    }\n",
       "</style>\n",
       "<table border=\"1\" class=\"dataframe\">\n",
       "  <thead>\n",
       "    <tr style=\"text-align: right;\">\n",
       "      <th></th>\n",
       "      <th>ds</th>\n",
       "      <th>trend</th>\n",
       "      <th>yhat_lower</th>\n",
       "      <th>yhat_upper</th>\n",
       "      <th>trend_lower</th>\n",
       "      <th>trend_upper</th>\n",
       "      <th>additive_terms</th>\n",
       "      <th>additive_terms_lower</th>\n",
       "      <th>additive_terms_upper</th>\n",
       "      <th>weekly</th>\n",
       "      <th>weekly_lower</th>\n",
       "      <th>weekly_upper</th>\n",
       "      <th>multiplicative_terms</th>\n",
       "      <th>multiplicative_terms_lower</th>\n",
       "      <th>multiplicative_terms_upper</th>\n",
       "      <th>yhat</th>\n",
       "    </tr>\n",
       "  </thead>\n",
       "  <tbody>\n",
       "    <tr>\n",
       "      <th>0</th>\n",
       "      <td>2018-01-01</td>\n",
       "      <td>508.021877</td>\n",
       "      <td>815.021865</td>\n",
       "      <td>1038.639378</td>\n",
       "      <td>508.021877</td>\n",
       "      <td>508.021877</td>\n",
       "      <td>417.696219</td>\n",
       "      <td>417.696219</td>\n",
       "      <td>417.696219</td>\n",
       "      <td>417.696219</td>\n",
       "      <td>417.696219</td>\n",
       "      <td>417.696219</td>\n",
       "      <td>0.0</td>\n",
       "      <td>0.0</td>\n",
       "      <td>0.0</td>\n",
       "      <td>925.718096</td>\n",
       "    </tr>\n",
       "    <tr>\n",
       "      <th>1</th>\n",
       "      <td>2018-01-02</td>\n",
       "      <td>505.743738</td>\n",
       "      <td>795.077005</td>\n",
       "      <td>1031.168430</td>\n",
       "      <td>505.743738</td>\n",
       "      <td>505.743738</td>\n",
       "      <td>407.060508</td>\n",
       "      <td>407.060508</td>\n",
       "      <td>407.060508</td>\n",
       "      <td>407.060508</td>\n",
       "      <td>407.060508</td>\n",
       "      <td>407.060508</td>\n",
       "      <td>0.0</td>\n",
       "      <td>0.0</td>\n",
       "      <td>0.0</td>\n",
       "      <td>912.804246</td>\n",
       "    </tr>\n",
       "    <tr>\n",
       "      <th>2</th>\n",
       "      <td>2018-01-03</td>\n",
       "      <td>503.465600</td>\n",
       "      <td>788.703616</td>\n",
       "      <td>1020.192727</td>\n",
       "      <td>503.465600</td>\n",
       "      <td>503.465600</td>\n",
       "      <td>390.385568</td>\n",
       "      <td>390.385568</td>\n",
       "      <td>390.385568</td>\n",
       "      <td>390.385568</td>\n",
       "      <td>390.385568</td>\n",
       "      <td>390.385568</td>\n",
       "      <td>0.0</td>\n",
       "      <td>0.0</td>\n",
       "      <td>0.0</td>\n",
       "      <td>893.851168</td>\n",
       "    </tr>\n",
       "    <tr>\n",
       "      <th>3</th>\n",
       "      <td>2018-01-04</td>\n",
       "      <td>501.187461</td>\n",
       "      <td>779.673757</td>\n",
       "      <td>1013.906885</td>\n",
       "      <td>501.187461</td>\n",
       "      <td>501.187461</td>\n",
       "      <td>394.313926</td>\n",
       "      <td>394.313926</td>\n",
       "      <td>394.313926</td>\n",
       "      <td>394.313926</td>\n",
       "      <td>394.313926</td>\n",
       "      <td>394.313926</td>\n",
       "      <td>0.0</td>\n",
       "      <td>0.0</td>\n",
       "      <td>0.0</td>\n",
       "      <td>895.501387</td>\n",
       "    </tr>\n",
       "    <tr>\n",
       "      <th>4</th>\n",
       "      <td>2018-01-05</td>\n",
       "      <td>498.909323</td>\n",
       "      <td>808.070004</td>\n",
       "      <td>1038.082595</td>\n",
       "      <td>498.909323</td>\n",
       "      <td>498.909323</td>\n",
       "      <td>422.586547</td>\n",
       "      <td>422.586547</td>\n",
       "      <td>422.586547</td>\n",
       "      <td>422.586547</td>\n",
       "      <td>422.586547</td>\n",
       "      <td>422.586547</td>\n",
       "      <td>0.0</td>\n",
       "      <td>0.0</td>\n",
       "      <td>0.0</td>\n",
       "      <td>921.495869</td>\n",
       "    </tr>\n",
       "    <tr>\n",
       "      <th>...</th>\n",
       "      <td>...</td>\n",
       "      <td>...</td>\n",
       "      <td>...</td>\n",
       "      <td>...</td>\n",
       "      <td>...</td>\n",
       "      <td>...</td>\n",
       "      <td>...</td>\n",
       "      <td>...</td>\n",
       "      <td>...</td>\n",
       "      <td>...</td>\n",
       "      <td>...</td>\n",
       "      <td>...</td>\n",
       "      <td>...</td>\n",
       "      <td>...</td>\n",
       "      <td>...</td>\n",
       "      <td>...</td>\n",
       "    </tr>\n",
       "    <tr>\n",
       "      <th>141</th>\n",
       "      <td>2018-06-25</td>\n",
       "      <td>109.347630</td>\n",
       "      <td>413.735021</td>\n",
       "      <td>648.039805</td>\n",
       "      <td>109.347613</td>\n",
       "      <td>109.347651</td>\n",
       "      <td>417.696219</td>\n",
       "      <td>417.696219</td>\n",
       "      <td>417.696219</td>\n",
       "      <td>417.696219</td>\n",
       "      <td>417.696219</td>\n",
       "      <td>417.696219</td>\n",
       "      <td>0.0</td>\n",
       "      <td>0.0</td>\n",
       "      <td>0.0</td>\n",
       "      <td>527.043849</td>\n",
       "    </tr>\n",
       "    <tr>\n",
       "      <th>142</th>\n",
       "      <td>2018-06-26</td>\n",
       "      <td>107.069492</td>\n",
       "      <td>396.479769</td>\n",
       "      <td>628.265898</td>\n",
       "      <td>107.069473</td>\n",
       "      <td>107.069513</td>\n",
       "      <td>407.060508</td>\n",
       "      <td>407.060508</td>\n",
       "      <td>407.060508</td>\n",
       "      <td>407.060508</td>\n",
       "      <td>407.060508</td>\n",
       "      <td>407.060508</td>\n",
       "      <td>0.0</td>\n",
       "      <td>0.0</td>\n",
       "      <td>0.0</td>\n",
       "      <td>514.130000</td>\n",
       "    </tr>\n",
       "    <tr>\n",
       "      <th>143</th>\n",
       "      <td>2018-06-27</td>\n",
       "      <td>104.791353</td>\n",
       "      <td>370.959695</td>\n",
       "      <td>617.496177</td>\n",
       "      <td>104.791334</td>\n",
       "      <td>104.791375</td>\n",
       "      <td>390.385568</td>\n",
       "      <td>390.385568</td>\n",
       "      <td>390.385568</td>\n",
       "      <td>390.385568</td>\n",
       "      <td>390.385568</td>\n",
       "      <td>390.385568</td>\n",
       "      <td>0.0</td>\n",
       "      <td>0.0</td>\n",
       "      <td>0.0</td>\n",
       "      <td>495.176921</td>\n",
       "    </tr>\n",
       "    <tr>\n",
       "      <th>144</th>\n",
       "      <td>2018-06-28</td>\n",
       "      <td>102.513215</td>\n",
       "      <td>383.419295</td>\n",
       "      <td>619.706719</td>\n",
       "      <td>102.513195</td>\n",
       "      <td>102.513237</td>\n",
       "      <td>394.313926</td>\n",
       "      <td>394.313926</td>\n",
       "      <td>394.313926</td>\n",
       "      <td>394.313926</td>\n",
       "      <td>394.313926</td>\n",
       "      <td>394.313926</td>\n",
       "      <td>0.0</td>\n",
       "      <td>0.0</td>\n",
       "      <td>0.0</td>\n",
       "      <td>496.827140</td>\n",
       "    </tr>\n",
       "    <tr>\n",
       "      <th>145</th>\n",
       "      <td>2018-06-29</td>\n",
       "      <td>100.235076</td>\n",
       "      <td>408.016160</td>\n",
       "      <td>649.189014</td>\n",
       "      <td>100.235056</td>\n",
       "      <td>100.235099</td>\n",
       "      <td>422.586547</td>\n",
       "      <td>422.586547</td>\n",
       "      <td>422.586547</td>\n",
       "      <td>422.586547</td>\n",
       "      <td>422.586547</td>\n",
       "      <td>422.586547</td>\n",
       "      <td>0.0</td>\n",
       "      <td>0.0</td>\n",
       "      <td>0.0</td>\n",
       "      <td>522.821623</td>\n",
       "    </tr>\n",
       "  </tbody>\n",
       "</table>\n",
       "<p>146 rows × 16 columns</p>\n",
       "</div>"
      ],
      "text/plain": [
       "            ds       trend  yhat_lower   yhat_upper  trend_lower  trend_upper  \\\n",
       "0   2018-01-01  508.021877  815.021865  1038.639378   508.021877   508.021877   \n",
       "1   2018-01-02  505.743738  795.077005  1031.168430   505.743738   505.743738   \n",
       "2   2018-01-03  503.465600  788.703616  1020.192727   503.465600   503.465600   \n",
       "3   2018-01-04  501.187461  779.673757  1013.906885   501.187461   501.187461   \n",
       "4   2018-01-05  498.909323  808.070004  1038.082595   498.909323   498.909323   \n",
       "..         ...         ...         ...          ...          ...          ...   \n",
       "141 2018-06-25  109.347630  413.735021   648.039805   109.347613   109.347651   \n",
       "142 2018-06-26  107.069492  396.479769   628.265898   107.069473   107.069513   \n",
       "143 2018-06-27  104.791353  370.959695   617.496177   104.791334   104.791375   \n",
       "144 2018-06-28  102.513215  383.419295   619.706719   102.513195   102.513237   \n",
       "145 2018-06-29  100.235076  408.016160   649.189014   100.235056   100.235099   \n",
       "\n",
       "     additive_terms  additive_terms_lower  additive_terms_upper      weekly  \\\n",
       "0        417.696219            417.696219            417.696219  417.696219   \n",
       "1        407.060508            407.060508            407.060508  407.060508   \n",
       "2        390.385568            390.385568            390.385568  390.385568   \n",
       "3        394.313926            394.313926            394.313926  394.313926   \n",
       "4        422.586547            422.586547            422.586547  422.586547   \n",
       "..              ...                   ...                   ...         ...   \n",
       "141      417.696219            417.696219            417.696219  417.696219   \n",
       "142      407.060508            407.060508            407.060508  407.060508   \n",
       "143      390.385568            390.385568            390.385568  390.385568   \n",
       "144      394.313926            394.313926            394.313926  394.313926   \n",
       "145      422.586547            422.586547            422.586547  422.586547   \n",
       "\n",
       "     weekly_lower  weekly_upper  multiplicative_terms  \\\n",
       "0      417.696219    417.696219                   0.0   \n",
       "1      407.060508    407.060508                   0.0   \n",
       "2      390.385568    390.385568                   0.0   \n",
       "3      394.313926    394.313926                   0.0   \n",
       "4      422.586547    422.586547                   0.0   \n",
       "..            ...           ...                   ...   \n",
       "141    417.696219    417.696219                   0.0   \n",
       "142    407.060508    407.060508                   0.0   \n",
       "143    390.385568    390.385568                   0.0   \n",
       "144    394.313926    394.313926                   0.0   \n",
       "145    422.586547    422.586547                   0.0   \n",
       "\n",
       "     multiplicative_terms_lower  multiplicative_terms_upper        yhat  \n",
       "0                           0.0                         0.0  925.718096  \n",
       "1                           0.0                         0.0  912.804246  \n",
       "2                           0.0                         0.0  893.851168  \n",
       "3                           0.0                         0.0  895.501387  \n",
       "4                           0.0                         0.0  921.495869  \n",
       "..                          ...                         ...         ...  \n",
       "141                         0.0                         0.0  527.043849  \n",
       "142                         0.0                         0.0  514.130000  \n",
       "143                         0.0                         0.0  495.176921  \n",
       "144                         0.0                         0.0  496.827140  \n",
       "145                         0.0                         0.0  522.821623  \n",
       "\n",
       "[146 rows x 16 columns]"
      ]
     },
     "execution_count": 138,
     "metadata": {},
     "output_type": "execute_result"
    }
   ],
   "source": [
    "forecast_df"
   ]
  },
  {
   "cell_type": "code",
   "execution_count": 140,
   "id": "74499ba5-0d74-402f-a52c-ae27e9aecbc4",
   "metadata": {},
   "outputs": [
    {
     "name": "stdout",
     "output_type": "stream",
     "text": [
      "Cleaned data saved to: cleaned_stc_tv_data2.csv\n"
     ]
    }
   ],
   "source": [
    "df.to_csv(\"cleaned_stc_tv_data2.csv\", index=False)\n",
    "print(\"Cleaned data saved to: cleaned_stc_tv_data2.csv\")"
   ]
  }
 ],
 "metadata": {
  "kernelspec": {
   "display_name": "Python 3 (ipykernel)",
   "language": "python",
   "name": "python3"
  },
  "language_info": {
   "codemirror_mode": {
    "name": "ipython",
    "version": 3
   },
   "file_extension": ".py",
   "mimetype": "text/x-python",
   "name": "python",
   "nbconvert_exporter": "python",
   "pygments_lexer": "ipython3",
   "version": "3.13.3"
  }
 },
 "nbformat": 4,
 "nbformat_minor": 5
}
